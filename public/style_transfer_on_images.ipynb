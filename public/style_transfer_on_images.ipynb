{
  "cells": [
    {
      "cell_type": "markdown",
      "id": "3dec1685",
      "metadata": {
        "id": "3dec1685",
        "papermill": {
          "duration": 0.003021,
          "end_time": "2025-03-24T05:40:06.825172",
          "exception": false,
          "start_time": "2025-03-24T05:40:06.822151",
          "status": "completed"
        },
        "tags": []
      },
      "source": [
        "# style-transfer-pytorch\n",
        "\n",
        "An implementation of neural style transfer ([A Neural Algorithm of Artistic Style](https://arxiv.org/abs/1508.06576)) in PyTorch, supporting CPUs and Nvidia GPUs. It does automatic multi-scale (coarse-to-fine) stylization to produce high-quality high resolution stylizations, even up to print resolution if the GPUs have sufficient memory.\n",
        "\n",
        "See [the GitHub repo](https://github.com/crowsonkb/style-transfer-pytorch) for more information."
      ]
    },
    {
      "cell_type": "code",
      "execution_count": null,
      "id": "a508a9e4",
      "metadata": {
        "execution": {
          "iopub.execute_input": "2025-03-24T05:40:06.831285Z",
          "iopub.status.busy": "2025-03-24T05:40:06.830946Z",
          "iopub.status.idle": "2025-03-24T05:40:12.270923Z",
          "shell.execute_reply": "2025-03-24T05:40:12.269921Z"
        },
        "id": "a508a9e4",
        "outputId": "d7e8eabd-3731-40ed-aba9-ccb742ec9fbe",
        "papermill": {
          "duration": 5.444695,
          "end_time": "2025-03-24T05:40:12.272527",
          "exception": false,
          "start_time": "2025-03-24T05:40:06.827832",
          "status": "completed"
        },
        "tags": []
      },
      "outputs": [
        {
          "name": "stdout",
          "output_type": "stream",
          "text": [
            "Collecting cloudinary\r\n"
          ]
        },
        {
          "name": "stdout",
          "output_type": "stream",
          "text": [
            "  Downloading cloudinary-1.43.0-py3-none-any.whl.metadata (7.9 kB)\r\n",
            "Requirement already satisfied: six in /usr/local/lib/python3.10/dist-packages (from cloudinary) (1.16.0)\r\n",
            "Requirement already satisfied: urllib3>=1.26.5 in /usr/local/lib/python3.10/dist-packages (from cloudinary) (2.2.3)\r\n",
            "Requirement already satisfied: certifi in /usr/local/lib/python3.10/dist-packages (from cloudinary) (2024.8.30)\r\n"
          ]
        },
        {
          "name": "stdout",
          "output_type": "stream",
          "text": [
            "Downloading cloudinary-1.43.0-py3-none-any.whl (147 kB)\r\n",
            "\u001b[?25l   \u001b[90m━━━━━━━━━━━━━━━━━━━━━━━━━━━━━━━━━━━━━━━━\u001b[0m \u001b[32m0.0/147.2 kB\u001b[0m \u001b[31m?\u001b[0m eta \u001b[36m-:--:--\u001b[0m\r",
            "\u001b[2K   \u001b[91m━━━━━━━━━━━━━━━━━━━━━━━━━━━━━━━━━━━━━━\u001b[0m\u001b[91m╸\u001b[0m\u001b[90m━\u001b[0m \u001b[32m143.4/147.2 kB\u001b[0m \u001b[31m5.4 MB/s\u001b[0m eta \u001b[36m0:00:01\u001b[0m\r",
            "\u001b[2K   \u001b[90m━━━━━━━━━━━━━━━━━━━━━━━━━━━━━━━━━━━━━━━━\u001b[0m \u001b[32m147.2/147.2 kB\u001b[0m \u001b[31m3.9 MB/s\u001b[0m eta \u001b[36m0:00:00\u001b[0m\r\n",
            "\u001b[?25h"
          ]
        },
        {
          "name": "stdout",
          "output_type": "stream",
          "text": [
            "Installing collected packages: cloudinary\r\n"
          ]
        },
        {
          "name": "stdout",
          "output_type": "stream",
          "text": [
            "Successfully installed cloudinary-1.43.0\r\n"
          ]
        }
      ],
      "source": [
        "!pip install cloudinary"
      ]
    },
    {
      "cell_type": "code",
      "execution_count": null,
      "id": "eb27e6e8",
      "metadata": {
        "execution": {
          "iopub.execute_input": "2025-03-24T05:40:12.279059Z",
          "iopub.status.busy": "2025-03-24T05:40:12.278786Z",
          "iopub.status.idle": "2025-03-24T05:40:19.786036Z",
          "shell.execute_reply": "2025-03-24T05:40:19.784849Z"
        },
        "id": "eb27e6e8",
        "outputId": "8ba0f949-6375-4caa-d206-ec1b2f3a23ea",
        "papermill": {
          "duration": 7.512052,
          "end_time": "2025-03-24T05:40:19.787625",
          "exception": false,
          "start_time": "2025-03-24T05:40:12.275573",
          "status": "completed"
        },
        "tags": []
      },
      "outputs": [
        {
          "name": "stdout",
          "output_type": "stream",
          "text": [
            "Mon Mar 24 05:40:12 2025       \r\n",
            "+-----------------------------------------------------------------------------------------+\r\n",
            "| NVIDIA-SMI 560.35.03              Driver Version: 560.35.03      CUDA Version: 12.6     |\r\n",
            "|-----------------------------------------+------------------------+----------------------+\r\n",
            "| GPU  Name                 Persistence-M | Bus-Id          Disp.A | Volatile Uncorr. ECC |\r\n",
            "| Fan  Temp   Perf          Pwr:Usage/Cap |           Memory-Usage | GPU-Util  Compute M. |\r\n",
            "|                                         |                        |               MIG M. |\r\n",
            "|=========================================+========================+======================|\r\n",
            "|   0  Tesla T4                       Off |   00000000:00:04.0 Off |                    0 |\r\n",
            "| N/A   57C    P8             10W /   70W |       1MiB /  15360MiB |      0%      Default |\r\n",
            "|                                         |                        |                  N/A |\r\n",
            "+-----------------------------------------+------------------------+----------------------+\r\n",
            "|   1  Tesla T4                       Off |   00000000:00:05.0 Off |                    0 |\r\n",
            "| N/A   56C    P8             10W /   70W |       1MiB /  15360MiB |      0%      Default |\r\n",
            "|                                         |                        |                  N/A |\r\n",
            "+-----------------------------------------+------------------------+----------------------+\r\n",
            "                                                                                         \r\n",
            "+-----------------------------------------------------------------------------------------+\r\n",
            "| Processes:                                                                              |\r\n",
            "|  GPU   GI   CI        PID   Type   Process name                              GPU Memory |\r\n",
            "|        ID   ID                                                               Usage      |\r\n",
            "|=========================================================================================|\r\n",
            "|  No running processes found                                                             |\r\n",
            "+-----------------------------------------------------------------------------------------+\r\n"
          ]
        },
        {
          "name": "stdout",
          "output_type": "stream",
          "text": [
            "Cloning into 'style-transfer-pytorch'...\r\n"
          ]
        },
        {
          "name": "stdout",
          "output_type": "stream",
          "text": [
            "remote: Enumerating objects: 567, done.\u001b[K\r\n",
            "remote: Counting objects:   0% (1/225)\u001b[K\r",
            "remote: Counting objects:   1% (3/225)\u001b[K\r",
            "remote: Counting objects:   2% (5/225)\u001b[K\r",
            "remote: Counting objects:   3% (7/225)\u001b[K\r",
            "remote: Counting objects:   4% (9/225)\u001b[K\r",
            "remote: Counting objects:   5% (12/225)\u001b[K\r",
            "remote: Counting objects:   6% (14/225)\u001b[K\r",
            "remote: Counting objects:   7% (16/225)\u001b[K\r",
            "remote: Counting objects:   8% (18/225)\u001b[K\r",
            "remote: Counting objects:   9% (21/225)\u001b[K\r",
            "remote: Counting objects:  10% (23/225)\u001b[K\r",
            "remote: Counting objects:  11% (25/225)\u001b[K\r",
            "remote: Counting objects:  12% (27/225)\u001b[K\r",
            "remote: Counting objects:  13% (30/225)\u001b[K\r",
            "remote: Counting objects:  14% (32/225)\u001b[K\r",
            "remote: Counting objects:  15% (34/225)\u001b[K\r",
            "remote: Counting objects:  16% (36/225)\u001b[K\r",
            "remote: Counting objects:  17% (39/225)\u001b[K\r",
            "remote: Counting objects:  18% (41/225)\u001b[K\r",
            "remote: Counting objects:  19% (43/225)\u001b[K\r",
            "remote: Counting objects:  20% (45/225)\u001b[K\r",
            "remote: Counting objects:  21% (48/225)\u001b[K\r",
            "remote: Counting objects:  22% (50/225)\u001b[K\r",
            "remote: Counting objects:  23% (52/225)\u001b[K\r",
            "remote: Counting objects:  24% (54/225)\u001b[K\r",
            "remote: Counting objects:  25% (57/225)\u001b[K\r",
            "remote: Counting objects:  26% (59/225)\u001b[K\r",
            "remote: Counting objects:  27% (61/225)\u001b[K\r",
            "remote: Counting objects:  28% (63/225)\u001b[K\r",
            "remote: Counting objects:  29% (66/225)\u001b[K\r",
            "remote: Counting objects:  30% (68/225)\u001b[K\r",
            "remote: Counting objects:  31% (70/225)\u001b[K\r",
            "remote: Counting objects:  32% (72/225)\u001b[K\r",
            "remote: Counting objects:  33% (75/225)\u001b[K\r",
            "remote: Counting objects:  34% (77/225)\u001b[K\r",
            "remote: Counting objects:  35% (79/225)\u001b[K\r",
            "remote: Counting objects:  36% (81/225)\u001b[K\r",
            "remote: Counting objects:  37% (84/225)\u001b[K\r",
            "remote: Counting objects:  38% (86/225)\u001b[K\r",
            "remote: Counting objects:  39% (88/225)\u001b[K\r",
            "remote: Counting objects:  40% (90/225)\u001b[K\r",
            "remote: Counting objects:  41% (93/225)\u001b[K\r",
            "remote: Counting objects:  42% (95/225)\u001b[K\r",
            "remote: Counting objects:  43% (97/225)\u001b[K\r",
            "remote: Counting objects:  44% (99/225)\u001b[K\r",
            "remote: Counting objects:  45% (102/225)\u001b[K\r",
            "remote: Counting objects:  46% (104/225)\u001b[K\r",
            "remote: Counting objects:  47% (106/225)\u001b[K\r",
            "remote: Counting objects:  48% (108/225)\u001b[K\r",
            "remote: Counting objects:  49% (111/225)\u001b[K\r",
            "remote: Counting objects:  50% (113/225)\u001b[K\r",
            "remote: Counting objects:  51% (115/225)\u001b[K\r",
            "remote: Counting objects:  52% (117/225)\u001b[K\r",
            "remote: Counting objects:  53% (120/225)\u001b[K\r",
            "remote: Counting objects:  54% (122/225)\u001b[K\r",
            "remote: Counting objects:  55% (124/225)\u001b[K\r",
            "remote: Counting objects:  56% (126/225)\u001b[K\r",
            "remote: Counting objects:  57% (129/225)\u001b[K\r",
            "remote: Counting objects:  58% (131/225)\u001b[K\r",
            "remote: Counting objects:  59% (133/225)\u001b[K\r",
            "remote: Counting objects:  60% (135/225)\u001b[K\r",
            "remote: Counting objects:  61% (138/225)\u001b[K\r",
            "remote: Counting objects:  62% (140/225)\u001b[K\r",
            "remote: Counting objects:  63% (142/225)\u001b[K\r",
            "remote: Counting objects:  64% (144/225)\u001b[K\r",
            "remote: Counting objects:  65% (147/225)\u001b[K\r",
            "remote: Counting objects:  66% (149/225)\u001b[K\r",
            "remote: Counting objects:  67% (151/225)\u001b[K\r",
            "remote: Counting objects:  68% (153/225)\u001b[K\r",
            "remote: Counting objects:  69% (156/225)\u001b[K\r",
            "remote: Counting objects:  70% (158/225)\u001b[K\r",
            "remote: Counting objects:  71% (160/225)\u001b[K\r",
            "remote: Counting objects:  72% (162/225)\u001b[K\r",
            "remote: Counting objects:  73% (165/225)\u001b[K\r",
            "remote: Counting objects:  74% (167/225)\u001b[K\r",
            "remote: Counting objects:  75% (169/225)\u001b[K\r",
            "remote: Counting objects:  76% (171/225)\u001b[K\r",
            "remote: Counting objects:  77% (174/225)\u001b[K\r",
            "remote: Counting objects:  78% (176/225)\u001b[K\r",
            "remote: Counting objects:  79% (178/225)\u001b[K\r",
            "remote: Counting objects:  80% (180/225)\u001b[K\r",
            "remote: Counting objects:  81% (183/225)\u001b[K\r",
            "remote: Counting objects:  82% (185/225)\u001b[K\r",
            "remote: Counting objects:  83% (187/225)\u001b[K\r",
            "remote: Counting objects:  84% (189/225)\u001b[K\r",
            "remote: Counting objects:  85% (192/225)\u001b[K\r",
            "remote: Counting objects:  86% (194/225)\u001b[K\r",
            "remote: Counting objects:  87% (196/225)\u001b[K\r",
            "remote: Counting objects:  88% (198/225)\u001b[K\r",
            "remote: Counting objects:  89% (201/225)\u001b[K\r",
            "remote: Counting objects:  90% (203/225)\u001b[K\r",
            "remote: Counting objects:  91% (205/225)\u001b[K\r",
            "remote: Counting objects:  92% (207/225)\u001b[K\r",
            "remote: Counting objects:  93% (210/225)\u001b[K\r",
            "remote: Counting objects:  94% (212/225)\u001b[K\r",
            "remote: Counting objects:  95% (214/225)\u001b[K\r",
            "remote: Counting objects:  96% (216/225)\u001b[K\r",
            "remote: Counting objects:  97% (219/225)\u001b[K\r",
            "remote: Counting objects:  98% (221/225)\u001b[K\r",
            "remote: Counting objects:  99% (223/225)\u001b[K\r",
            "remote: Counting objects: 100% (225/225)\u001b[K\r",
            "remote: Counting objects: 100% (225/225), done.\u001b[K\r\n",
            "remote: Compressing objects:   3% (1/28)\u001b[K\r",
            "remote: Compressing objects:   7% (2/28)\u001b[K\r",
            "remote: Compressing objects:  10% (3/28)\u001b[K\r",
            "remote: Compressing objects:  14% (4/28)\u001b[K\r",
            "remote: Compressing objects:  17% (5/28)\u001b[K\r",
            "remote: Compressing objects:  21% (6/28)\u001b[K\r",
            "remote: Compressing objects:  25% (7/28)\u001b[K\r",
            "remote: Compressing objects:  28% (8/28)\u001b[K\r",
            "remote: Compressing objects:  32% (9/28)\u001b[K\r",
            "remote: Compressing objects:  35% (10/28)\u001b[K\r",
            "remote: Compressing objects:  39% (11/28)\u001b[K\r",
            "remote: Compressing objects:  42% (12/28)\u001b[K\r",
            "remote: Compressing objects:  46% (13/28)\u001b[K\r",
            "remote: Compressing objects:  50% (14/28)\u001b[K\r",
            "remote: Compressing objects:  53% (15/28)\u001b[K\r",
            "remote: Compressing objects:  57% (16/28)\u001b[K\r",
            "remote: Compressing objects:  60% (17/28)\u001b[K\r",
            "remote: Compressing objects:  64% (18/28)\u001b[K\r",
            "remote: Compressing objects:  67% (19/28)\u001b[K\r",
            "remote: Compressing objects:  71% (20/28)\u001b[K\r",
            "remote: Compressing objects:  75% (21/28)\u001b[K\r",
            "remote: Compressing objects:  78% (22/28)\u001b[K\r",
            "remote: Compressing objects:  82% (23/28)\u001b[K\r",
            "remote: Compressing objects:  85% (24/28)\u001b[K\r",
            "remote: Compressing objects:  89% (25/28)\u001b[K\r",
            "remote: Compressing objects:  92% (26/28)\u001b[K\r",
            "remote: Compressing objects:  96% (27/28)\u001b[K\r",
            "remote: Compressing objects: 100% (28/28)\u001b[K\r",
            "remote: Compressing objects: 100% (28/28), done.\u001b[K\r\n"
          ]
        },
        {
          "name": "stdout",
          "output_type": "stream",
          "text": [
            "Receiving objects:   0% (1/567)\r",
            "Receiving objects:   1% (6/567)\r",
            "Receiving objects:   2% (12/567)\r",
            "Receiving objects:   3% (18/567)\r",
            "Receiving objects:   4% (23/567)\r",
            "Receiving objects:   5% (29/567)\r",
            "Receiving objects:   6% (35/567)\r",
            "Receiving objects:   7% (40/567)\r",
            "Receiving objects:   8% (46/567)\r",
            "Receiving objects:   9% (52/567)\r",
            "Receiving objects:  10% (57/567)\r",
            "Receiving objects:  11% (63/567)\r",
            "Receiving objects:  12% (69/567)\r",
            "Receiving objects:  13% (74/567)\r",
            "Receiving objects:  14% (80/567)\r",
            "Receiving objects:  15% (86/567)\r",
            "Receiving objects:  16% (91/567)\r",
            "Receiving objects:  17% (97/567)\r",
            "Receiving objects:  18% (103/567)\r",
            "Receiving objects:  19% (108/567)\r",
            "Receiving objects:  20% (114/567)\r",
            "Receiving objects:  21% (120/567)\r",
            "Receiving objects:  22% (125/567)\r",
            "Receiving objects:  23% (131/567)\r",
            "Receiving objects:  24% (137/567)\r",
            "Receiving objects:  25% (142/567)\r",
            "Receiving objects:  26% (148/567)\r",
            "Receiving objects:  27% (154/567)\r",
            "Receiving objects:  28% (159/567)\r",
            "Receiving objects:  29% (165/567)\r",
            "Receiving objects:  30% (171/567)\r",
            "Receiving objects:  31% (176/567)\r",
            "Receiving objects:  32% (182/567)\r",
            "Receiving objects:  33% (188/567)\r",
            "Receiving objects:  34% (193/567)\r",
            "Receiving objects:  35% (199/567)\r",
            "Receiving objects:  36% (205/567)\r",
            "Receiving objects:  37% (210/567)\r",
            "Receiving objects:  38% (216/567)\r",
            "Receiving objects:  39% (222/567)\r",
            "Receiving objects:  40% (227/567)\r",
            "Receiving objects:  41% (233/567)\r",
            "Receiving objects:  42% (239/567)\r",
            "Receiving objects:  43% (244/567)\r",
            "Receiving objects:  44% (250/567)\r",
            "Receiving objects:  45% (256/567)\r"
          ]
        },
        {
          "name": "stdout",
          "output_type": "stream",
          "text": [
            "Receiving objects:  46% (261/567)\r",
            "Receiving objects:  47% (267/567)\r",
            "Receiving objects:  48% (273/567)\r",
            "Receiving objects:  49% (278/567)\r",
            "Receiving objects:  50% (284/567)\r",
            "Receiving objects:  51% (290/567)\r",
            "Receiving objects:  52% (295/567)\r",
            "remote: Total 567 (delta 212), reused 206 (delta 197), pack-reused 342 (from 1)\u001b[K\r\n",
            "Receiving objects:  53% (301/567)\r",
            "Receiving objects:  54% (307/567)\r",
            "Receiving objects:  55% (312/567)\r",
            "Receiving objects:  56% (318/567)\r",
            "Receiving objects:  57% (324/567)\r",
            "Receiving objects:  58% (329/567)\r",
            "Receiving objects:  59% (335/567)\r",
            "Receiving objects:  60% (341/567)\r",
            "Receiving objects:  61% (346/567)\r",
            "Receiving objects:  62% (352/567)\r",
            "Receiving objects:  63% (358/567)\r",
            "Receiving objects:  64% (363/567)\r",
            "Receiving objects:  65% (369/567)\r",
            "Receiving objects:  66% (375/567)\r",
            "Receiving objects:  67% (380/567)\r",
            "Receiving objects:  68% (386/567)\r",
            "Receiving objects:  69% (392/567)\r",
            "Receiving objects:  70% (397/567)\r",
            "Receiving objects:  71% (403/567)\r",
            "Receiving objects:  72% (409/567)\r",
            "Receiving objects:  73% (414/567)\r",
            "Receiving objects:  74% (420/567)\r",
            "Receiving objects:  75% (426/567)\r",
            "Receiving objects:  76% (431/567)\r",
            "Receiving objects:  77% (437/567)\r",
            "Receiving objects:  78% (443/567)\r",
            "Receiving objects:  79% (448/567)\r",
            "Receiving objects:  80% (454/567)\r",
            "Receiving objects:  81% (460/567)\r",
            "Receiving objects:  82% (465/567)\r",
            "Receiving objects:  83% (471/567)\r",
            "Receiving objects:  84% (477/567)\r",
            "Receiving objects:  85% (482/567)\r",
            "Receiving objects:  86% (488/567)\r",
            "Receiving objects:  87% (494/567)\r",
            "Receiving objects:  88% (499/567)\r",
            "Receiving objects:  89% (505/567)\r",
            "Receiving objects:  90% (511/567)\r",
            "Receiving objects:  91% (516/567)\r",
            "Receiving objects:  92% (522/567)\r",
            "Receiving objects:  93% (528/567)\r",
            "Receiving objects:  94% (533/567)\r",
            "Receiving objects:  95% (539/567)\r",
            "Receiving objects:  96% (545/567)\r",
            "Receiving objects:  97% (550/567)\r",
            "Receiving objects:  98% (556/567)\r",
            "Receiving objects:  99% (562/567)\r",
            "Receiving objects: 100% (567/567)\r",
            "Receiving objects: 100% (567/567), 2.72 MiB | 5.85 MiB/s, done.\r\n",
            "Resolving deltas:   0% (0/361)\r",
            "Resolving deltas:   1% (4/361)\r",
            "Resolving deltas:   2% (8/361)\r",
            "Resolving deltas:   3% (11/361)\r",
            "Resolving deltas:   4% (15/361)\r",
            "Resolving deltas:   5% (19/361)\r",
            "Resolving deltas:   6% (22/361)\r",
            "Resolving deltas:   7% (26/361)\r",
            "Resolving deltas:   8% (29/361)\r",
            "Resolving deltas:   9% (33/361)\r",
            "Resolving deltas:  10% (37/361)\r",
            "Resolving deltas:  11% (40/361)\r",
            "Resolving deltas:  12% (44/361)\r",
            "Resolving deltas:  13% (47/361)\r",
            "Resolving deltas:  14% (51/361)\r",
            "Resolving deltas:  15% (55/361)\r",
            "Resolving deltas:  16% (58/361)\r",
            "Resolving deltas:  17% (62/361)\r",
            "Resolving deltas:  18% (66/361)\r",
            "Resolving deltas:  19% (69/361)\r",
            "Resolving deltas:  20% (73/361)\r",
            "Resolving deltas:  21% (76/361)\r",
            "Resolving deltas:  22% (80/361)\r",
            "Resolving deltas:  23% (84/361)\r",
            "Resolving deltas:  24% (87/361)\r",
            "Resolving deltas:  25% (91/361)\r",
            "Resolving deltas:  26% (94/361)\r",
            "Resolving deltas:  27% (98/361)\r",
            "Resolving deltas:  28% (102/361)\r",
            "Resolving deltas:  29% (105/361)\r",
            "Resolving deltas:  30% (109/361)\r",
            "Resolving deltas:  31% (112/361)\r",
            "Resolving deltas:  32% (116/361)\r",
            "Resolving deltas:  33% (120/361)\r",
            "Resolving deltas:  34% (123/361)\r",
            "Resolving deltas:  35% (127/361)\r",
            "Resolving deltas:  36% (130/361)\r",
            "Resolving deltas:  37% (134/361)\r",
            "Resolving deltas:  38% (138/361)\r",
            "Resolving deltas:  39% (141/361)\r",
            "Resolving deltas:  40% (145/361)\r",
            "Resolving deltas:  41% (149/361)\r",
            "Resolving deltas:  42% (152/361)\r",
            "Resolving deltas:  43% (156/361)\r",
            "Resolving deltas:  44% (159/361)\r",
            "Resolving deltas:  45% (163/361)\r",
            "Resolving deltas:  46% (167/361)\r",
            "Resolving deltas:  47% (170/361)\r",
            "Resolving deltas:  48% (174/361)\r",
            "Resolving deltas:  49% (177/361)\r",
            "Resolving deltas:  50% (181/361)\r",
            "Resolving deltas:  51% (185/361)\r",
            "Resolving deltas:  52% (188/361)\r",
            "Resolving deltas:  53% (192/361)\r",
            "Resolving deltas:  54% (196/361)\r",
            "Resolving deltas:  55% (199/361)\r",
            "Resolving deltas:  56% (203/361)\r",
            "Resolving deltas:  57% (206/361)\r",
            "Resolving deltas:  58% (210/361)\r",
            "Resolving deltas:  59% (213/361)\r",
            "Resolving deltas:  60% (217/361)\r",
            "Resolving deltas:  61% (221/361)\r",
            "Resolving deltas:  62% (224/361)\r",
            "Resolving deltas:  63% (228/361)\r",
            "Resolving deltas:  64% (232/361)\r",
            "Resolving deltas:  65% (235/361)\r",
            "Resolving deltas:  66% (239/361)\r",
            "Resolving deltas:  67% (242/361)\r",
            "Resolving deltas:  68% (246/361)\r",
            "Resolving deltas:  69% (250/361)\r",
            "Resolving deltas:  70% (253/361)\r",
            "Resolving deltas:  71% (257/361)\r",
            "Resolving deltas:  72% (260/361)\r",
            "Resolving deltas:  73% (264/361)\r",
            "Resolving deltas:  74% (268/361)\r",
            "Resolving deltas:  75% (271/361)\r",
            "Resolving deltas:  76% (275/361)\r",
            "Resolving deltas:  77% (278/361)\r",
            "Resolving deltas:  78% (282/361)\r",
            "Resolving deltas:  79% (286/361)\r",
            "Resolving deltas:  80% (289/361)\r",
            "Resolving deltas:  81% (293/361)\r",
            "Resolving deltas:  82% (297/361)\r",
            "Resolving deltas:  83% (300/361)\r",
            "Resolving deltas:  84% (304/361)\r",
            "Resolving deltas:  85% (307/361)\r",
            "Resolving deltas:  86% (311/361)\r",
            "Resolving deltas:  87% (315/361)\r",
            "Resolving deltas:  88% (318/361)\r",
            "Resolving deltas:  89% (322/361)\r",
            "Resolving deltas:  90% (325/361)\r",
            "Resolving deltas:  91% (329/361)\r",
            "Resolving deltas:  92% (333/361)\r",
            "Resolving deltas:  93% (336/361)\r",
            "Resolving deltas:  94% (340/361)\r",
            "Resolving deltas:  95% (343/361)\r",
            "Resolving deltas:  96% (347/361)\r",
            "Resolving deltas:  97% (351/361)\r",
            "Resolving deltas:  98% (354/361)\r",
            "Resolving deltas:  99% (358/361)\r",
            "Resolving deltas: 100% (361/361)\r",
            "Resolving deltas: 100% (361/361), done.\r\n"
          ]
        },
        {
          "name": "stdout",
          "output_type": "stream",
          "text": [
            "Obtaining file:///kaggle/working/style-transfer-pytorch\r\n"
          ]
        },
        {
          "name": "stdout",
          "output_type": "stream",
          "text": [
            "  Preparing metadata (setup.py) ... \u001b[?25l\u001b[?25hdone\r\n"
          ]
        },
        {
          "name": "stdout",
          "output_type": "stream",
          "text": [
            "Requirement already satisfied: aiohttp>=3.7.2 in /usr/local/lib/python3.10/dist-packages (from style-transfer-pytorch==0.1) (3.10.5)\r\n",
            "Requirement already satisfied: numpy>=1.19.2 in /usr/local/lib/python3.10/dist-packages (from style-transfer-pytorch==0.1) (1.26.4)\r\n",
            "Requirement already satisfied: Pillow>=8.0.0 in /usr/local/lib/python3.10/dist-packages (from style-transfer-pytorch==0.1) (10.4.0)\r\n",
            "Requirement already satisfied: tifffile>=2020.9.3 in /usr/local/lib/python3.10/dist-packages (from style-transfer-pytorch==0.1) (2024.8.30)\r\n",
            "Requirement already satisfied: torch>=1.7.1 in /usr/local/lib/python3.10/dist-packages (from style-transfer-pytorch==0.1) (2.4.1+cu121)\r\n",
            "Requirement already satisfied: torchvision>=0.8.2 in /usr/local/lib/python3.10/dist-packages (from style-transfer-pytorch==0.1) (0.19.1+cu121)\r\n",
            "Requirement already satisfied: tqdm>=4.46.0 in /usr/local/lib/python3.10/dist-packages (from style-transfer-pytorch==0.1) (4.66.5)\r\n",
            "Requirement already satisfied: aiohappyeyeballs>=2.3.0 in /usr/local/lib/python3.10/dist-packages (from aiohttp>=3.7.2->style-transfer-pytorch==0.1) (2.4.0)\r\n",
            "Requirement already satisfied: aiosignal>=1.1.2 in /usr/local/lib/python3.10/dist-packages (from aiohttp>=3.7.2->style-transfer-pytorch==0.1) (1.3.1)\r\n",
            "Requirement already satisfied: attrs>=17.3.0 in /usr/local/lib/python3.10/dist-packages (from aiohttp>=3.7.2->style-transfer-pytorch==0.1) (24.2.0)\r\n",
            "Requirement already satisfied: frozenlist>=1.1.1 in /usr/local/lib/python3.10/dist-packages (from aiohttp>=3.7.2->style-transfer-pytorch==0.1) (1.4.1)\r\n",
            "Requirement already satisfied: multidict<7.0,>=4.5 in /usr/local/lib/python3.10/dist-packages (from aiohttp>=3.7.2->style-transfer-pytorch==0.1) (6.1.0)\r\n",
            "Requirement already satisfied: yarl<2.0,>=1.0 in /usr/local/lib/python3.10/dist-packages (from aiohttp>=3.7.2->style-transfer-pytorch==0.1) (1.11.1)\r\n",
            "Requirement already satisfied: async-timeout<5.0,>=4.0 in /usr/local/lib/python3.10/dist-packages (from aiohttp>=3.7.2->style-transfer-pytorch==0.1) (4.0.3)\r\n"
          ]
        },
        {
          "name": "stdout",
          "output_type": "stream",
          "text": [
            "Requirement already satisfied: filelock in /usr/local/lib/python3.10/dist-packages (from torch>=1.7.1->style-transfer-pytorch==0.1) (3.16.1)\r\n",
            "Requirement already satisfied: typing-extensions>=4.8.0 in /usr/local/lib/python3.10/dist-packages (from torch>=1.7.1->style-transfer-pytorch==0.1) (4.12.2)\r\n",
            "Requirement already satisfied: sympy in /usr/local/lib/python3.10/dist-packages (from torch>=1.7.1->style-transfer-pytorch==0.1) (1.13.3)\r\n",
            "Requirement already satisfied: networkx in /usr/local/lib/python3.10/dist-packages (from torch>=1.7.1->style-transfer-pytorch==0.1) (3.3)\r\n",
            "Requirement already satisfied: jinja2 in /usr/local/lib/python3.10/dist-packages (from torch>=1.7.1->style-transfer-pytorch==0.1) (3.1.4)\r\n",
            "Requirement already satisfied: fsspec in /usr/local/lib/python3.10/dist-packages (from torch>=1.7.1->style-transfer-pytorch==0.1) (2024.6.1)\r\n",
            "Requirement already satisfied: idna>=2.0 in /usr/local/lib/python3.10/dist-packages (from yarl<2.0,>=1.0->aiohttp>=3.7.2->style-transfer-pytorch==0.1) (3.10)\r\n"
          ]
        },
        {
          "name": "stdout",
          "output_type": "stream",
          "text": [
            "Requirement already satisfied: MarkupSafe>=2.0 in /usr/local/lib/python3.10/dist-packages (from jinja2->torch>=1.7.1->style-transfer-pytorch==0.1) (2.1.5)\r\n",
            "Requirement already satisfied: mpmath<1.4,>=1.1.0 in /usr/local/lib/python3.10/dist-packages (from sympy->torch>=1.7.1->style-transfer-pytorch==0.1) (1.3.0)\r\n"
          ]
        },
        {
          "name": "stdout",
          "output_type": "stream",
          "text": [
            "Installing collected packages: style-transfer-pytorch\r\n",
            "  Running setup.py develop for style-transfer-pytorch\r\n"
          ]
        },
        {
          "name": "stdout",
          "output_type": "stream",
          "text": [
            "Successfully installed style-transfer-pytorch-0.1\r\n"
          ]
        }
      ],
      "source": [
        "!nvidia-smi\n",
        "!git clone https://github.com/crowsonkb/style-transfer-pytorch\n",
        "!pip install -e ./style-transfer-pytorch"
      ]
    },
    {
      "cell_type": "code",
      "execution_count": null,
      "id": "1b960f10",
      "metadata": {
        "execution": {
          "iopub.execute_input": "2025-03-24T05:40:19.796155Z",
          "iopub.status.busy": "2025-03-24T05:40:19.795863Z",
          "iopub.status.idle": "2025-03-24T05:40:19.799182Z",
          "shell.execute_reply": "2025-03-24T05:40:19.798563Z"
        },
        "id": "1b960f10",
        "papermill": {
          "duration": 0.008673,
          "end_time": "2025-03-24T05:40:19.800303",
          "exception": false,
          "start_time": "2025-03-24T05:40:19.791630",
          "status": "completed"
        },
        "tags": []
      },
      "outputs": [],
      "source": [
        "import json, random, subprocess, os#, cloudinary, cloudinary.uploader\n",
        "from pathlib import Path"
      ]
    },
    {
      "cell_type": "code",
      "execution_count": null,
      "id": "e34bd093",
      "metadata": {
        "execution": {
          "iopub.execute_input": "2025-03-24T05:40:19.808212Z",
          "iopub.status.busy": "2025-03-24T05:40:19.807969Z",
          "iopub.status.idle": "2025-03-24T05:40:19.815727Z",
          "shell.execute_reply": "2025-03-24T05:40:19.815040Z"
        },
        "id": "e34bd093",
        "outputId": "79249c91-6005-47a6-800d-ab0eb60d3742",
        "papermill": {
          "duration": 0.01321,
          "end_time": "2025-03-24T05:40:19.816934",
          "exception": false,
          "start_time": "2025-03-24T05:40:19.803724",
          "status": "completed"
        },
        "tags": []
      },
      "outputs": [
        {
          "name": "stdout",
          "output_type": "stream",
          "text": [
            "Overwriting /kaggle/working/style-transfer-pytorch/style_transfer/cli.py\n"
          ]
        }
      ],
      "source": [
        "%%writefile /kaggle/working/style-transfer-pytorch/style_transfer/cli.py\n",
        "\n",
        "\"\"\"Neural style transfer (https://arxiv.org/abs/1508.06576) in PyTorch.\"\"\"\n",
        "\n",
        "import argparse\n",
        "import atexit\n",
        "from dataclasses import asdict\n",
        "import io, os, uuid\n",
        "import json, base64\n",
        "from pathlib import Path\n",
        "import platform\n",
        "import sys\n",
        "import webbrowser\n",
        "import requests\n",
        "from typing import Union\n",
        "\n",
        "import numpy as np\n",
        "from PIL import Image, ImageCms\n",
        "from tifffile import TIFF, TiffWriter\n",
        "import torch\n",
        "import torch.multiprocessing as mp\n",
        "from tqdm import tqdm\n",
        "\n",
        "import cloudinary\n",
        "import cloudinary.uploader\n",
        "from cloudinary.utils import cloudinary_url\n",
        "\n",
        "# Configuration\n",
        "cloudinary.config(\n",
        "    cloud_name = \"<cloud_name>\",\n",
        "    api_key = \"<api_key>\",\n",
        "    api_secret = \"<api_secret>\", # Click 'View API Keys' above to copy your API secret\n",
        "    secure=True\n",
        ")\n",
        "\n",
        "from . import srgb_profile, StyleTransfer, WebInterface\n",
        "\n",
        "DEFAULT_RETURN_TYPE = 'response'\n",
        "def _pantry_call(pantry_id: str, request_type: str, name: str=None, contents: dict=None, return_type: str=DEFAULT_RETURN_TYPE) -> Union[str, dict]:\n",
        "\t\"\"\"private base function for other API call functions\"\"\"\n",
        "\n",
        "\turl = f\"https://getpantry.cloud/apiv1/pantry/{pantry_id}\"\n",
        "\tif name != None and name.strip() != '':\n",
        "\t\t# if a basket name is passed, it should be added to the URL\n",
        "\t\turl += f\"/basket/{name}\"\n",
        "\n",
        "\t# if data is passed as 'contents', convert it to string to add to the request, else leave it empty\n",
        "\tif contents != None:\n",
        "\t\tpayload = json.dumps(contents)\n",
        "\telse:\n",
        "\t\tpayload = \"\"\n",
        "\n",
        "\theaders= {\n",
        "\t\t'Content-Type': 'application/json'\n",
        "\t}\n",
        "\t# request_type is passed by the individual wrapper functions;\n",
        "\t# the Pantry API uses the same-ish URL endpoint but different HTTP methods for the different functions\n",
        "\tresponse = requests.request(request_type, url, headers=headers, data=payload)\n",
        "\n",
        "\t# two options to return: the whole Response object, or just the data from the body (string or JSON)\n",
        "\tif return_type.strip().lower() == 'response':\n",
        "\t\treturn response\n",
        "\telif return_type.strip().lower() == 'body':\n",
        "\t\treturn _format_body(response.text)\n",
        "\telse:\n",
        "\t\treturn None\n",
        "\n",
        "def append_basket(pantry_id: str, name: str, contents: dict, return_type: str=DEFAULT_RETURN_TYPE) -> Union[str, dict]:\n",
        "\t\"\"\"appends contents to new or existing basket; will overwrite values of existing keys and append values to nested objects or arrays\"\"\"\n",
        "\treturn _pantry_call(pantry_id, request_type='PUT', name=name, contents=contents, return_type=return_type)\n",
        "\n",
        "\n",
        "def prof_to_prof(image, src_prof, dst_prof, **kwargs):\n",
        "    src_prof = io.BytesIO(src_prof)\n",
        "    dst_prof = io.BytesIO(dst_prof)\n",
        "    return ImageCms.profileToProfile(image, src_prof, dst_prof, **kwargs)\n",
        "\n",
        "\n",
        "def load_image(url=None, path=None, proof_prof=None):\n",
        "    src_prof = dst_prof = srgb_profile\n",
        "    try:\n",
        "      if url:\n",
        "        response = requests.get(url)\n",
        "        image = Image.open(io.BytesIO(response.content))\n",
        "      elif path:\n",
        "        image = Image.open(path)\n",
        "\n",
        "      if 'icc_profile' in image.info:\n",
        "          src_prof = image.info['icc_profile']\n",
        "      else:\n",
        "          image = image.convert('RGB')\n",
        "      if proof_prof is None:\n",
        "          if src_prof == dst_prof:\n",
        "              return image.convert('RGB')\n",
        "          return prof_to_prof(image, src_prof, dst_prof, outputMode='RGB')\n",
        "      proof_prof = Path(proof_prof).read_bytes()\n",
        "      cmyk = prof_to_prof(image, src_prof, proof_prof, outputMode='CMYK')\n",
        "      return prof_to_prof(cmyk, proof_prof, dst_prof, outputMode='RGB')\n",
        "\n",
        "    except OSError as err:\n",
        "        print_error(err)\n",
        "        sys.exit(1)\n",
        "\n",
        "\n",
        "def save_pil(path, image):\n",
        "    try:\n",
        "        kwargs = {'icc_profile': srgb_profile}\n",
        "        if path.suffix.lower() in {'.jpg', '.jpeg'}:\n",
        "            kwargs['quality'] = 95\n",
        "            kwargs['subsampling'] = 0\n",
        "        elif path.suffix.lower() == '.webp':\n",
        "            kwargs['quality'] = 95\n",
        "        image.save(path, **kwargs)\n",
        "    except (OSError, ValueError) as err:\n",
        "        print_error(err)\n",
        "        sys.exit(1)\n",
        "\n",
        "\n",
        "def save_tiff(path, image):\n",
        "    tag = ('InterColorProfile', TIFF.DATATYPES.BYTE, len(srgb_profile), srgb_profile, False)\n",
        "    try:\n",
        "        with TiffWriter(path) as writer:\n",
        "            writer.save(image, photometric='rgb', resolution=(72, 72), extratags=[tag])\n",
        "    except OSError as err:\n",
        "        print_error(err)\n",
        "        sys.exit(1)\n",
        "\n",
        "\n",
        "def save_image(path, image, iterations_images):\n",
        "    unique_id = str(uuid.uuid4()).replace(\"-\", \"\")\n",
        "    i = str(len(iterations_images))\n",
        "    pathlib_path = Path(i + unique_id + path)\n",
        "    tqdm.write(f'Writing image to {path}.')\n",
        "    if isinstance(image, Image.Image):\n",
        "        save_pil(pathlib_path, image)\n",
        "\n",
        "        cloudinary_url = image_upload_get_url(pathlib_path, image)\n",
        "\n",
        "        iterations_images.append(cloudinary_url)\n",
        "\n",
        "    elif isinstance(image, np.ndarray) and path.suffix.lower() in {'.tif', '.tiff'}:\n",
        "        save_tiff(path, image)\n",
        "    else:\n",
        "        raise ValueError('Unsupported combination of image type and extension')\n",
        "\n",
        "\n",
        "def image_upload_get_url(path, image=None):\n",
        "    pathlib_path = Path(path)\n",
        "\n",
        "    upload_result = cloudinary.uploader.upload(path,\n",
        "                                           public_id=pathlib_path.stem)\n",
        "    return upload_result[\"secure_url\"]\n",
        "\n",
        "\n",
        "def write_to_json(res_url, content_path, style_path, option3_path, option4_path, iteration_image_urls):\n",
        "    content_url = image_upload_get_url(content_path)\n",
        "    style_url = image_upload_get_url(style_path[0])\n",
        "    option3_url = image_upload_get_url(option3_path)\n",
        "    option4_url = image_upload_get_url(option4_path)\n",
        "\n",
        "    data = {res_url: [[content_url, style_url, option3_url, option4_url], [iteration_image_urls]]}\n",
        "\n",
        "    append_basket(\"<basket_id>\", \"<basket_name>\", data, return_type='body')\n",
        "\n",
        "\n",
        "def get_safe_scale(w, h, dim):\n",
        "    \"\"\"Given a w x h content image and that a dim x dim square does not\n",
        "    exceed GPU memory, compute a safe end_scale for that content image.\"\"\"\n",
        "    return int(pow(w / h if w > h else h / w, 1/2) * dim)\n",
        "\n",
        "\n",
        "def setup_exceptions():\n",
        "    try:\n",
        "        from IPython.core.ultratb import FormattedTB\n",
        "        sys.excepthook = FormattedTB(mode='Plain', color_scheme='Neutral')\n",
        "    except ImportError:\n",
        "        pass\n",
        "\n",
        "\n",
        "def fix_start_method():\n",
        "    if platform.system() == 'Darwin':\n",
        "        mp.set_start_method('spawn')\n",
        "\n",
        "\n",
        "def print_error(err):\n",
        "    print('\\033[31m{}:\\033[0m {}'.format(type(err).__name__, err), file=sys.stderr)\n",
        "\n",
        "\n",
        "class Callback:\n",
        "    def __init__(self, st, args, image_type='pil', web_interface=None):\n",
        "        self.st = st\n",
        "        self.args = args\n",
        "        self.image_type = image_type\n",
        "        self.web_interface = web_interface\n",
        "        self.iterates = []\n",
        "        self.progress = None\n",
        "        self.iteration_image_urls = []\n",
        "\n",
        "    def __call__(self, iterate):\n",
        "        self.iterates.append(asdict(iterate))\n",
        "        if iterate.i == 1:\n",
        "            self.progress = tqdm(total=iterate.i_max, dynamic_ncols=True)\n",
        "        msg = 'Size: {}x{}, iteration: {}, loss: {:g}'\n",
        "        tqdm.write(msg.format(iterate.w, iterate.h, iterate.i, iterate.loss))\n",
        "        self.progress.update()\n",
        "        if self.web_interface is not None:\n",
        "            self.web_interface.put_iterate(iterate, self.st.get_image_tensor())\n",
        "        if iterate.i == iterate.i_max:\n",
        "            self.progress.close()\n",
        "\n",
        "            if max(iterate.w, iterate.h) != self.args.end_scale:\n",
        "                save_image(self.args.output, self.st.get_image(self.image_type), self.iteration_image_urls)\n",
        "\n",
        "            else:\n",
        "                if self.web_interface is not None:\n",
        "                    self.web_interface.put_done()\n",
        "        elif iterate.i % self.args.save_every == 0:\n",
        "            save_image(self.args.output, self.st.get_image(self.image_type), self.iteration_image_urls)\n",
        "\n",
        "    def close(self):\n",
        "        if self.progress is not None:\n",
        "            self.progress.close()\n",
        "\n",
        "    def get_trace(self):\n",
        "        return {'args': self.args.__dict__, 'iterates': self.iterates}\n",
        "\n",
        "\n",
        "def main():\n",
        "    setup_exceptions()\n",
        "    fix_start_method()\n",
        "\n",
        "    p = argparse.ArgumentParser(description=__doc__,\n",
        "                                formatter_class=argparse.ArgumentDefaultsHelpFormatter)\n",
        "\n",
        "    def arg_info(arg):\n",
        "        defaults = StyleTransfer.stylize.__kwdefaults__\n",
        "        default_types = StyleTransfer.stylize.__annotations__\n",
        "        return {'default': defaults[arg], 'type': default_types[arg]}\n",
        "\n",
        "    p.add_argument('content', type=str, help='the content image')\n",
        "    p.add_argument('styles', type=str, nargs='+', metavar='style', help='the style images')\n",
        "    p.add_argument('--output', '-o', type=str, default='out.png',\n",
        "                   help='the output image')\n",
        "    p.add_argument('--option3', type=str, help='random image to be displayed')\n",
        "    p.add_argument('--option4', type=str, help='another random image to be displayed')\n",
        "    p.add_argument('--style-weights', '-sw', type=float, nargs='+', default=None,\n",
        "                   metavar='STYLE_WEIGHT', help='the relative weights for each style image')\n",
        "    p.add_argument('--devices', type=str, default=[], nargs='+',\n",
        "                   help='the device names to use (omit for auto)')\n",
        "    p.add_argument('--random-seed', '-r', type=int, default=0,\n",
        "                   help='the random seed')\n",
        "    p.add_argument('--content-weight', '-cw', **arg_info('content_weight'),\n",
        "                   help='the content weight')\n",
        "    p.add_argument('--tv-weight', '-tw', **arg_info('tv_weight'),\n",
        "                   help='the smoothing weight')\n",
        "    p.add_argument('--optimizer', **arg_info('optimizer'),\n",
        "                   choices=['adam', 'lbfgs'],\n",
        "                   help='the optimizer to use')\n",
        "    p.add_argument('--min-scale', '-ms', **arg_info('min_scale'),\n",
        "                   help='the minimum scale (max image dim), in pixels')\n",
        "    p.add_argument('--end-scale', '-s', type=str, default='512',\n",
        "                   help='the final scale (max image dim), in pixels')\n",
        "    p.add_argument('--iterations', '-i', **arg_info('iterations'),\n",
        "                   help='the number of iterations per scale')\n",
        "    p.add_argument('--initial-iterations', '-ii', **arg_info('initial_iterations'),\n",
        "                   help='the number of iterations on the first scale')\n",
        "    p.add_argument('--save-every', type=int, default=50,\n",
        "                   help='save the image every SAVE_EVERY iterations')\n",
        "    p.add_argument('--step-size', '-ss', **arg_info('step_size'),\n",
        "                   help='the step size (learning rate) for Adam')\n",
        "    p.add_argument('--avg-decay', '-ad', **arg_info('avg_decay'),\n",
        "                   help='the EMA decay rate for iterate averaging')\n",
        "    p.add_argument('--init', **arg_info('init'),\n",
        "                   choices=['content', 'gray', 'uniform', 'normal', 'style_stats'],\n",
        "                   help='the initial image')\n",
        "    p.add_argument('--style-scale-fac', **arg_info('style_scale_fac'),\n",
        "                   help='the relative scale of the style to the content')\n",
        "    p.add_argument('--style-size', **arg_info('style_size'),\n",
        "                   help='the fixed scale of the style at different content scales')\n",
        "    p.add_argument('--pooling', type=str, default='max', choices=['max', 'average', 'l2'],\n",
        "                   help='the model\\'s pooling mode')\n",
        "    p.add_argument('--proof', type=str, default=None,\n",
        "                   help='the ICC color profile (CMYK) for soft proofing the content and styles')\n",
        "    p.add_argument('--web', default=False, action='store_true', help='enable the web interface')\n",
        "    p.add_argument('--host', type=str, default='0.0.0.0',\n",
        "                   help='the host the web interface binds to')\n",
        "    p.add_argument('--port', type=int, default=8080,\n",
        "                   help='the port the web interface binds to')\n",
        "    p.add_argument('--browser', type=str, default='', nargs='?',\n",
        "                   help='open a web browser (specify the browser if not system default)')\n",
        "\n",
        "    args = p.parse_args()\n",
        "\n",
        "    content_img = load_image(path=args.content, proof_prof=args.proof)\n",
        "    style_imgs = [load_image(path=img, proof_prof=args.proof) for img in args.styles]\n",
        "\n",
        "    image_type = 'pil'\n",
        "    if Path(args.output).suffix.lower() in {'.tif', '.tiff'}:\n",
        "        image_type = 'np_uint16'\n",
        "\n",
        "    devices = [torch.device(device) for device in args.devices]\n",
        "    if not devices:\n",
        "        devices = [torch.device('cuda:0' if torch.cuda.is_available() else 'cpu')]\n",
        "    if len(set(device.type for device in devices)) != 1:\n",
        "        print('Devices must all be the same type.')\n",
        "        sys.exit(1)\n",
        "    if not 1 <= len(devices) <= 2:\n",
        "        print('Only 1 or 2 devices are supported.')\n",
        "        sys.exit(1)\n",
        "    print('Using devices:', ' '.join(str(device) for device in devices))\n",
        "\n",
        "    if devices[0].type == 'cpu':\n",
        "        print('CPU threads:', torch.get_num_threads())\n",
        "    if devices[0].type == 'cuda':\n",
        "        for i, device in enumerate(devices):\n",
        "            props = torch.cuda.get_device_properties(device)\n",
        "            print(f'GPU {i} type: {props.name} (compute {props.major}.{props.minor})')\n",
        "            print(f'GPU {i} RAM:', round(props.total_memory / 1024 / 1024), 'MB')\n",
        "\n",
        "    end_scale = int(args.end_scale.rstrip('+'))\n",
        "    if args.end_scale.endswith('+'):\n",
        "        end_scale = get_safe_scale(*content_img.size, end_scale)\n",
        "    args.end_scale = end_scale\n",
        "\n",
        "    web_interface = None\n",
        "    if args.web:\n",
        "        web_interface = WebInterface(args.host, args.port)\n",
        "        atexit.register(web_interface.close)\n",
        "\n",
        "    for device in devices:\n",
        "        torch.tensor(0).to(device)\n",
        "    torch.manual_seed(args.random_seed)\n",
        "\n",
        "    print('Loading model...')\n",
        "    st = StyleTransfer(devices=devices, pooling=args.pooling)\n",
        "    callback = Callback(st, args, image_type=image_type, web_interface=web_interface)\n",
        "    atexit.register(callback.close)\n",
        "\n",
        "    url = f'http://{args.host}:{args.port}/'\n",
        "    if args.web:\n",
        "        if args.browser:\n",
        "            webbrowser.get(args.browser).open(url)\n",
        "        elif args.browser is None:\n",
        "            webbrowser.open(url)\n",
        "\n",
        "    defaults = StyleTransfer.stylize.__kwdefaults__\n",
        "    st_kwargs = {k: v for k, v in args.__dict__.items() if k in defaults}\n",
        "    try:\n",
        "        st.stylize(content_img, style_imgs, **st_kwargs, callback=callback)\n",
        "    except KeyboardInterrupt:\n",
        "        pass\n",
        "\n",
        "    output_image = st.get_image(image_type)\n",
        "    if output_image is not None:\n",
        "        save_image(args.output, output_image, callback.iteration_image_urls)\n",
        "        write_to_json(callback.iteration_image_urls[-1], args.content, args.styles,\n",
        "                      args.option3, args.option4, callback.iteration_image_urls)\n",
        "    with open('trace.json', 'w') as fp:\n",
        "        json.dump(callback.get_trace(), fp, indent=4)\n",
        "\n",
        "\n",
        "if __name__ == '__main__':\n",
        "    main()"
      ]
    },
    {
      "cell_type": "code",
      "execution_count": null,
      "id": "a826707c",
      "metadata": {
        "execution": {
          "iopub.execute_input": "2025-03-24T05:40:19.824534Z",
          "iopub.status.busy": "2025-03-24T05:40:19.824321Z",
          "iopub.status.idle": "2025-03-24T05:40:19.829791Z",
          "shell.execute_reply": "2025-03-24T05:40:19.829195Z"
        },
        "id": "a826707c",
        "papermill": {
          "duration": 0.010606,
          "end_time": "2025-03-24T05:40:19.830979",
          "exception": false,
          "start_time": "2025-03-24T05:40:19.820373",
          "status": "completed"
        },
        "tags": []
      },
      "outputs": [],
      "source": [
        "def random_image_from_directory(directory, seen):\n",
        "    images = [os.path.join(directory, file) for file in sorted(os.listdir(directory))]\n",
        "    img_path = random.choice(images)\n",
        "    while img_path in seen:\n",
        "      img_path = random.choice(images)\n",
        "    return img_path\n",
        "\n",
        "def choose_4_random_images_and_return_list():\n",
        "  # CHOOSE CATEGORIES FOR IMAGES\n",
        "  categories = ['/kaggle/input/images-dataset/ST_data/cities_square/',\n",
        "                '/kaggle/input/images-dataset/ST_data/city_ai_photos',\n",
        "                '/kaggle/input/images-dataset/ST_data/landscape_paintings/',\n",
        "                '/kaggle/input/images-dataset/ST_data/nature_views/',\n",
        "                '/kaggle/input/images-dataset/ST_data/paintings/']\n",
        "\n",
        "  cat_content = random.choice(categories)\n",
        "  cat_style = random.choice(categories)\n",
        "  cat_random_1 = random.choice(categories)\n",
        "  cat_random_2 = random.choice(categories)\n",
        "\n",
        "  while cat_content == cat_style:\n",
        "    cat_style = random.choice(categories)\n",
        "\n",
        "\n",
        "  # CHOOSE IMAGES\n",
        "  seen = []\n",
        "\n",
        "  path_content = random_image_from_directory(cat_content, seen)\n",
        "\n",
        "  path_style = random_image_from_directory(cat_style, seen)\n",
        "\n",
        "  path_random_1 = random_image_from_directory(cat_random_1, seen)\n",
        "\n",
        "  path_random_2 = random_image_from_directory(cat_random_2, seen)\n",
        "\n",
        "  seen.append(path_content)\n",
        "  seen.append(path_style)\n",
        "  seen.append(path_random_1)\n",
        "  seen.append(path_random_2)\n",
        "\n",
        "  return seen"
      ]
    },
    {
      "cell_type": "code",
      "execution_count": null,
      "id": "1f00e341",
      "metadata": {
        "execution": {
          "iopub.execute_input": "2025-03-24T05:40:19.838380Z",
          "iopub.status.busy": "2025-03-24T05:40:19.838186Z",
          "iopub.status.idle": "2025-03-24T05:40:21.540047Z",
          "shell.execute_reply": "2025-03-24T05:40:21.539364Z"
        },
        "id": "1f00e341",
        "papermill": {
          "duration": 1.707198,
          "end_time": "2025-03-24T05:40:21.541580",
          "exception": false,
          "start_time": "2025-03-24T05:40:19.834382",
          "status": "completed"
        },
        "tags": []
      },
      "outputs": [],
      "source": [
        "import os, uuid\n",
        "\n",
        "image_dict_content = []\n",
        "for i in range(150):\n",
        "    imgs = choose_4_random_images_and_return_list()\n",
        "    image_dict_content.append(imgs)"
      ]
    },
    {
      "cell_type": "code",
      "execution_count": null,
      "id": "5c89477a",
      "metadata": {
        "execution": {
          "iopub.execute_input": "2025-03-24T05:40:21.549866Z",
          "iopub.status.busy": "2025-03-24T05:40:21.549633Z"
        },
        "papermill": {
          "duration": null,
          "end_time": null,
          "exception": false,
          "start_time": "2025-03-24T05:40:21.545483",
          "status": "running"
        },
        "tags": [],
        "id": "5c89477a",
        "outputId": "3d3353ca-82cc-438f-fa51-2c80a7d6c1b8"
      },
      "outputs": [
        {
          "name": "stdout",
          "output_type": "stream",
          "text": [
            "Successful: \n"
          ]
        },
        {
          "name": "stdout",
          "output_type": "stream",
          "text": [
            "Successful: \n"
          ]
        },
        {
          "name": "stdout",
          "output_type": "stream",
          "text": [
            "Successful: \n"
          ]
        },
        {
          "name": "stdout",
          "output_type": "stream",
          "text": [
            "Successful: \n"
          ]
        },
        {
          "name": "stdout",
          "output_type": "stream",
          "text": [
            "Successful: \n"
          ]
        },
        {
          "name": "stdout",
          "output_type": "stream",
          "text": [
            "Successful: \n"
          ]
        },
        {
          "name": "stdout",
          "output_type": "stream",
          "text": [
            "Successful: \n"
          ]
        },
        {
          "name": "stdout",
          "output_type": "stream",
          "text": [
            "Successful: \n"
          ]
        },
        {
          "name": "stdout",
          "output_type": "stream",
          "text": [
            "Successful: \n"
          ]
        },
        {
          "name": "stdout",
          "output_type": "stream",
          "text": [
            "Successful: \n"
          ]
        },
        {
          "name": "stdout",
          "output_type": "stream",
          "text": [
            "Successful: \n"
          ]
        },
        {
          "name": "stdout",
          "output_type": "stream",
          "text": [
            "Successful: \n"
          ]
        },
        {
          "name": "stdout",
          "output_type": "stream",
          "text": [
            "Successful: \n"
          ]
        },
        {
          "name": "stdout",
          "output_type": "stream",
          "text": [
            "Successful: \n"
          ]
        },
        {
          "name": "stdout",
          "output_type": "stream",
          "text": [
            "Successful: \n"
          ]
        },
        {
          "name": "stdout",
          "output_type": "stream",
          "text": [
            "Successful: \n"
          ]
        },
        {
          "name": "stdout",
          "output_type": "stream",
          "text": [
            "Successful: \n"
          ]
        },
        {
          "name": "stdout",
          "output_type": "stream",
          "text": [
            "Successful: \n"
          ]
        },
        {
          "name": "stdout",
          "output_type": "stream",
          "text": [
            "Successful: \n"
          ]
        },
        {
          "name": "stdout",
          "output_type": "stream",
          "text": [
            "Successful: \n"
          ]
        },
        {
          "name": "stdout",
          "output_type": "stream",
          "text": [
            "Successful: \n"
          ]
        },
        {
          "name": "stdout",
          "output_type": "stream",
          "text": [
            "Successful: \n"
          ]
        },
        {
          "name": "stdout",
          "output_type": "stream",
          "text": [
            "Successful: \n"
          ]
        },
        {
          "name": "stdout",
          "output_type": "stream",
          "text": [
            "Successful: \n"
          ]
        },
        {
          "name": "stdout",
          "output_type": "stream",
          "text": [
            "Successful: \n"
          ]
        },
        {
          "name": "stdout",
          "output_type": "stream",
          "text": [
            "Successful: \n"
          ]
        },
        {
          "name": "stdout",
          "output_type": "stream",
          "text": [
            "Successful: \n"
          ]
        },
        {
          "name": "stdout",
          "output_type": "stream",
          "text": [
            "Successful: \n"
          ]
        },
        {
          "name": "stdout",
          "output_type": "stream",
          "text": [
            "Successful: \n"
          ]
        },
        {
          "name": "stdout",
          "output_type": "stream",
          "text": [
            "Successful: \n"
          ]
        },
        {
          "name": "stdout",
          "output_type": "stream",
          "text": [
            "Successful: \n"
          ]
        },
        {
          "name": "stdout",
          "output_type": "stream",
          "text": [
            "Successful: \n"
          ]
        },
        {
          "name": "stdout",
          "output_type": "stream",
          "text": [
            "Successful: \n"
          ]
        },
        {
          "name": "stdout",
          "output_type": "stream",
          "text": [
            "Successful: \n"
          ]
        },
        {
          "name": "stdout",
          "output_type": "stream",
          "text": [
            "Successful: \n"
          ]
        },
        {
          "name": "stdout",
          "output_type": "stream",
          "text": [
            "Successful: \n"
          ]
        },
        {
          "name": "stdout",
          "output_type": "stream",
          "text": [
            "Successful: \n"
          ]
        },
        {
          "name": "stdout",
          "output_type": "stream",
          "text": [
            "Successful: \n"
          ]
        },
        {
          "name": "stdout",
          "output_type": "stream",
          "text": [
            "Successful: \n"
          ]
        },
        {
          "name": "stdout",
          "output_type": "stream",
          "text": [
            "Successful: \n"
          ]
        },
        {
          "name": "stdout",
          "output_type": "stream",
          "text": [
            "Successful: \n"
          ]
        },
        {
          "name": "stdout",
          "output_type": "stream",
          "text": [
            "Successful: \n"
          ]
        },
        {
          "name": "stdout",
          "output_type": "stream",
          "text": [
            "Successful: \n"
          ]
        },
        {
          "name": "stdout",
          "output_type": "stream",
          "text": [
            "Successful: \n"
          ]
        },
        {
          "name": "stdout",
          "output_type": "stream",
          "text": [
            "Successful: \n"
          ]
        },
        {
          "name": "stdout",
          "output_type": "stream",
          "text": [
            "Successful: \n"
          ]
        },
        {
          "name": "stdout",
          "output_type": "stream",
          "text": [
            "Successful: \n"
          ]
        },
        {
          "name": "stdout",
          "output_type": "stream",
          "text": [
            "Successful: \n"
          ]
        },
        {
          "name": "stdout",
          "output_type": "stream",
          "text": [
            "Successful: \n"
          ]
        },
        {
          "name": "stdout",
          "output_type": "stream",
          "text": [
            "Successful: \n"
          ]
        },
        {
          "name": "stdout",
          "output_type": "stream",
          "text": [
            "Successful: \n"
          ]
        },
        {
          "name": "stdout",
          "output_type": "stream",
          "text": [
            "Successful: \n"
          ]
        },
        {
          "name": "stdout",
          "output_type": "stream",
          "text": [
            "Successful: \n"
          ]
        },
        {
          "name": "stdout",
          "output_type": "stream",
          "text": [
            "Successful: \n"
          ]
        },
        {
          "name": "stdout",
          "output_type": "stream",
          "text": [
            "Successful: \n"
          ]
        },
        {
          "name": "stdout",
          "output_type": "stream",
          "text": [
            "Successful: \n"
          ]
        },
        {
          "name": "stdout",
          "output_type": "stream",
          "text": [
            "Successful: \n"
          ]
        },
        {
          "name": "stdout",
          "output_type": "stream",
          "text": [
            "Successful: \n"
          ]
        },
        {
          "name": "stdout",
          "output_type": "stream",
          "text": [
            "Successful: \n"
          ]
        },
        {
          "name": "stdout",
          "output_type": "stream",
          "text": [
            "Successful: \n"
          ]
        },
        {
          "name": "stdout",
          "output_type": "stream",
          "text": [
            "Successful: \n"
          ]
        },
        {
          "name": "stdout",
          "output_type": "stream",
          "text": [
            "Successful: \n"
          ]
        },
        {
          "name": "stdout",
          "output_type": "stream",
          "text": [
            "Successful: \n"
          ]
        },
        {
          "name": "stdout",
          "output_type": "stream",
          "text": [
            "Successful: \n"
          ]
        },
        {
          "name": "stdout",
          "output_type": "stream",
          "text": [
            "Successful: \n"
          ]
        },
        {
          "name": "stdout",
          "output_type": "stream",
          "text": [
            "Successful: \n"
          ]
        },
        {
          "name": "stdout",
          "output_type": "stream",
          "text": [
            "Successful: \n"
          ]
        },
        {
          "name": "stdout",
          "output_type": "stream",
          "text": [
            "Successful: \n"
          ]
        },
        {
          "name": "stdout",
          "output_type": "stream",
          "text": [
            "Successful: \n"
          ]
        },
        {
          "name": "stdout",
          "output_type": "stream",
          "text": [
            "Successful: \n"
          ]
        },
        {
          "name": "stdout",
          "output_type": "stream",
          "text": [
            "Successful: \n"
          ]
        },
        {
          "name": "stdout",
          "output_type": "stream",
          "text": [
            "Successful: \n"
          ]
        },
        {
          "name": "stdout",
          "output_type": "stream",
          "text": [
            "Successful: \n"
          ]
        },
        {
          "name": "stdout",
          "output_type": "stream",
          "text": [
            "Successful: \n"
          ]
        },
        {
          "name": "stdout",
          "output_type": "stream",
          "text": [
            "Successful: \n"
          ]
        },
        {
          "name": "stdout",
          "output_type": "stream",
          "text": [
            "Successful: \n"
          ]
        },
        {
          "name": "stdout",
          "output_type": "stream",
          "text": [
            "Successful: \n"
          ]
        },
        {
          "name": "stdout",
          "output_type": "stream",
          "text": [
            "Successful: \n"
          ]
        },
        {
          "name": "stdout",
          "output_type": "stream",
          "text": [
            "Successful: \n"
          ]
        },
        {
          "name": "stdout",
          "output_type": "stream",
          "text": [
            "Successful: \n"
          ]
        },
        {
          "name": "stdout",
          "output_type": "stream",
          "text": [
            "Successful: \n"
          ]
        },
        {
          "name": "stdout",
          "output_type": "stream",
          "text": [
            "Successful: \n"
          ]
        },
        {
          "name": "stdout",
          "output_type": "stream",
          "text": [
            "Successful: \n"
          ]
        },
        {
          "name": "stdout",
          "output_type": "stream",
          "text": [
            "Successful: \n"
          ]
        },
        {
          "name": "stdout",
          "output_type": "stream",
          "text": [
            "Successful: \n"
          ]
        },
        {
          "name": "stdout",
          "output_type": "stream",
          "text": [
            "Successful: \n"
          ]
        },
        {
          "name": "stdout",
          "output_type": "stream",
          "text": [
            "Successful: \n"
          ]
        },
        {
          "name": "stdout",
          "output_type": "stream",
          "text": [
            "Successful: \n"
          ]
        },
        {
          "name": "stdout",
          "output_type": "stream",
          "text": [
            "Successful: \n"
          ]
        },
        {
          "name": "stdout",
          "output_type": "stream",
          "text": [
            "Successful: \n"
          ]
        },
        {
          "name": "stdout",
          "output_type": "stream",
          "text": [
            "Successful: \n"
          ]
        },
        {
          "name": "stdout",
          "output_type": "stream",
          "text": [
            "Successful: \n"
          ]
        },
        {
          "name": "stdout",
          "output_type": "stream",
          "text": [
            "Successful: \n"
          ]
        },
        {
          "name": "stdout",
          "output_type": "stream",
          "text": [
            "Successful: \n"
          ]
        },
        {
          "name": "stdout",
          "output_type": "stream",
          "text": [
            "Successful: \n"
          ]
        },
        {
          "name": "stdout",
          "output_type": "stream",
          "text": [
            "Successful: \n"
          ]
        },
        {
          "name": "stdout",
          "output_type": "stream",
          "text": [
            "Successful: \n"
          ]
        },
        {
          "name": "stdout",
          "output_type": "stream",
          "text": [
            "Successful: \n"
          ]
        },
        {
          "name": "stdout",
          "output_type": "stream",
          "text": [
            "Successful: \n"
          ]
        },
        {
          "name": "stdout",
          "output_type": "stream",
          "text": [
            "Successful: \n"
          ]
        },
        {
          "name": "stdout",
          "output_type": "stream",
          "text": [
            "Successful: \n"
          ]
        },
        {
          "name": "stdout",
          "output_type": "stream",
          "text": [
            "Successful: \n"
          ]
        },
        {
          "name": "stdout",
          "output_type": "stream",
          "text": [
            "Successful: \n"
          ]
        },
        {
          "name": "stdout",
          "output_type": "stream",
          "text": [
            "Successful: \n"
          ]
        },
        {
          "name": "stdout",
          "output_type": "stream",
          "text": [
            "Successful: \n"
          ]
        },
        {
          "name": "stdout",
          "output_type": "stream",
          "text": [
            "Successful: \n"
          ]
        },
        {
          "name": "stdout",
          "output_type": "stream",
          "text": [
            "Successful: \n"
          ]
        },
        {
          "name": "stdout",
          "output_type": "stream",
          "text": [
            "Successful: \n"
          ]
        },
        {
          "name": "stdout",
          "output_type": "stream",
          "text": [
            "Successful: \n"
          ]
        },
        {
          "name": "stdout",
          "output_type": "stream",
          "text": [
            "Successful: \n"
          ]
        },
        {
          "name": "stdout",
          "output_type": "stream",
          "text": [
            "Successful: \n"
          ]
        },
        {
          "name": "stdout",
          "output_type": "stream",
          "text": [
            "Successful: \n"
          ]
        },
        {
          "name": "stdout",
          "output_type": "stream",
          "text": [
            "Successful: \n"
          ]
        },
        {
          "name": "stdout",
          "output_type": "stream",
          "text": [
            "Successful: \n"
          ]
        },
        {
          "name": "stdout",
          "output_type": "stream",
          "text": [
            "Successful: \n"
          ]
        },
        {
          "name": "stdout",
          "output_type": "stream",
          "text": [
            "Successful: \n"
          ]
        },
        {
          "name": "stdout",
          "output_type": "stream",
          "text": [
            "Successful: \n"
          ]
        },
        {
          "name": "stdout",
          "output_type": "stream",
          "text": [
            "Successful: \n"
          ]
        },
        {
          "name": "stdout",
          "output_type": "stream",
          "text": [
            "Successful: \n"
          ]
        },
        {
          "name": "stdout",
          "output_type": "stream",
          "text": [
            "Successful: \n"
          ]
        },
        {
          "name": "stdout",
          "output_type": "stream",
          "text": [
            "Successful: \n"
          ]
        },
        {
          "name": "stdout",
          "output_type": "stream",
          "text": [
            "Successful: \n"
          ]
        },
        {
          "name": "stdout",
          "output_type": "stream",
          "text": [
            "Successful: \n"
          ]
        },
        {
          "name": "stdout",
          "output_type": "stream",
          "text": [
            "Successful: \n"
          ]
        },
        {
          "name": "stdout",
          "output_type": "stream",
          "text": [
            "Successful: \n"
          ]
        },
        {
          "name": "stdout",
          "output_type": "stream",
          "text": [
            "Successful: \n"
          ]
        },
        {
          "name": "stdout",
          "output_type": "stream",
          "text": [
            "Successful: \n"
          ]
        },
        {
          "name": "stdout",
          "output_type": "stream",
          "text": [
            "Successful: \n"
          ]
        },
        {
          "name": "stdout",
          "output_type": "stream",
          "text": [
            "Successful: \n"
          ]
        },
        {
          "name": "stdout",
          "output_type": "stream",
          "text": [
            "Successful: \n"
          ]
        },
        {
          "name": "stdout",
          "output_type": "stream",
          "text": [
            "Successful: \n"
          ]
        },
        {
          "name": "stdout",
          "output_type": "stream",
          "text": [
            "Successful: \n"
          ]
        },
        {
          "name": "stdout",
          "output_type": "stream",
          "text": [
            "Successful: \n"
          ]
        },
        {
          "name": "stdout",
          "output_type": "stream",
          "text": [
            "Successful: \n"
          ]
        }
      ],
      "source": [
        "for i in range(len(image_dict_content)):\n",
        "    images = image_dict_content[i]\n",
        "    content_url = images[0]\n",
        "    style_url = images[1]\n",
        "    random1_url = images[2]\n",
        "    random2_url = images[3]\n",
        "    # Define output file path based on iteration index\n",
        "    i = str(uuid.uuid4()).replace(\"-\", \"\")\n",
        "    output_path = f\"out{i}.png\"\n",
        "\n",
        "    # Build the command for subprocess\n",
        "    command = [\n",
        "        \"style_transfer\",\n",
        "        content_url,\n",
        "        style_url,\n",
        "        \"--output\",\n",
        "        output_path,\n",
        "        \"--option3\",\n",
        "        random1_url,\n",
        "        \"--option4\",\n",
        "        random2_url,\n",
        "        \"-s\",\n",
        "        \"512\",\n",
        "        \"-ms\",\n",
        "        \"512\",\n",
        "        \"--save-every\",\n",
        "        \"10\"\n",
        "    ]\n",
        "\n",
        "    # Execute the command\n",
        "    try:\n",
        "        with open(\"output.log\", \"a\") as log_file:\n",
        "            subprocess.run(command, stdout=log_file, stderr=log_file)\n",
        "        print(\"Successful: \")\n",
        "    except subprocess.CalledProcessError as e:\n",
        "        print(f\"Error processing {output_image_url}: {e}\")\n",
        "\n",
        "# cmd = \" \".join(command)\n",
        "# !{cmd}"
      ]
    }
  ],
  "metadata": {
    "accelerator": "GPU",
    "colab": {
      "provenance": []
    },
    "kaggle": {
      "accelerator": "nvidiaTeslaT4",
      "dataSources": [
        {
          "datasetId": 6351525,
          "sourceId": 10266540,
          "sourceType": "datasetVersion"
        },
        {
          "datasetId": 6369520,
          "sourceId": 10291979,
          "sourceType": "datasetVersion"
        }
      ],
      "dockerImageVersionId": 30823,
      "isGpuEnabled": true,
      "isInternetEnabled": true,
      "language": "python",
      "sourceType": "notebook"
    },
    "kernelspec": {
      "display_name": "Python 3",
      "language": "python",
      "name": "python3"
    },
    "language_info": {
      "codemirror_mode": {
        "name": "ipython",
        "version": 3
      },
      "file_extension": ".py",
      "mimetype": "text/x-python",
      "name": "python",
      "nbconvert_exporter": "python",
      "pygments_lexer": "ipython3",
      "version": "3.10.12"
    },
    "papermill": {
      "default_parameters": {},
      "duration": null,
      "end_time": null,
      "environment_variables": {},
      "exception": null,
      "input_path": "__notebook__.ipynb",
      "output_path": "__notebook__.ipynb",
      "parameters": {},
      "start_time": "2025-03-24T05:40:04.499932",
      "version": "2.6.0"
    }
  },
  "nbformat": 4,
  "nbformat_minor": 5
}